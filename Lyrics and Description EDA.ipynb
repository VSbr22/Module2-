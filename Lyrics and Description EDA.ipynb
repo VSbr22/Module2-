{
 "cells": [
  {
   "cell_type": "markdown",
   "id": "7f79baf9",
   "metadata": {},
   "source": [
    "# ADS 509 Assignment 2.1: Tokenization, Normalization, Descriptive Statistics \n",
    "\n",
    "This notebook holds Assignment 2.1 for Module 2 in ADS 509, Applied Text Mining. Work through this notebook, writing code and answering questions where required. \n",
    "\n",
    "In the previous assignment you put together Twitter data and lyrics data on two artists. In this assignment we explore some of the textual features of those data sets. If, for some reason, you did not complete that previous assignment, data to use for this assignment can be found in the assignment materials section of Blackboard. \n",
    "\n",
    "This assignment asks you to write a short function to calculate some descriptive statistics on a piece of text. Then you are asked to find some interesting and unique statistics on your corpora. \n"
   ]
  },
  {
   "cell_type": "markdown",
   "id": "aae8e2e1",
   "metadata": {},
   "source": [
    "## General Assignment Instructions\n",
    "\n",
    "These instructions are included in every assignment, to remind you of the coding standards for the class. Feel free to delete this cell after reading it. \n",
    "\n",
    "One sign of mature code is conforming to a style guide. We recommend the [Google Python Style Guide](https://google.github.io/styleguide/pyguide.html). If you use a different style guide, please include a cell with a link. \n",
    "\n",
    "Your code should be relatively easy-to-read, sensibly commented, and clean. Writing code is a messy process, so please be sure to edit your final submission. Remove any cells that are not needed or parts of cells that contain unnecessary code. Remove inessential `import` statements and make sure that all such statements are moved into the designated cell. \n",
    "\n",
    "Make use of non-code cells for written commentary. These cells should be grammatical and clearly written. In some of these cells you will have questions to answer. The questions will be marked by a \"Q:\" and will have a corresponding \"A:\" spot for you. *Make sure to answer every question marked with a `Q:` for full credit.* \n"
   ]
  },
  {
   "cell_type": "code",
   "execution_count": 23,
   "id": "8a1bc748",
   "metadata": {},
   "outputs": [
    {
     "name": "stdout",
     "output_type": "stream",
     "text": [
      "Requirement already satisfied: emoji in /Users/vannesasalazar/opt/anaconda3/lib/python3.9/site-packages (2.8.0)\n",
      "Note: you may need to restart the kernel to use updated packages.\n"
     ]
    }
   ],
   "source": [
    "pip install emoji"
   ]
  },
  {
   "cell_type": "code",
   "execution_count": 80,
   "id": "e2d096b7",
   "metadata": {},
   "outputs": [
    {
     "name": "stderr",
     "output_type": "stream",
     "text": [
      "[nltk_data] Downloading package stopwords to\n",
      "[nltk_data]     /Users/vannesasalazar/nltk_data...\n",
      "[nltk_data]   Package stopwords is already up-to-date!\n"
     ]
    }
   ],
   "source": [
    "import os\n",
    "import re\n",
    "import emoji\n",
    "\n",
    "import pandas as pd\n",
    "import numpy as np\n",
    "\n",
    "from collections import Counter, defaultdict\n",
    "from nltk.corpus import stopwords\n",
    "from string import punctuation\n",
    "import nltk\n",
    "nltk.download('stopwords')\n",
    "import matplotlib.pyplot as plt\n",
    "\n",
    "from nltk.tokenize import word_tokenize\n",
    "from nltk.corpus import stopwords\n",
    "import string\n"
   ]
  },
  {
   "cell_type": "code",
   "execution_count": 25,
   "id": "9391a035",
   "metadata": {},
   "outputs": [],
   "source": [
    "sw = stopwords.words(\"english\")"
   ]
  },
  {
   "cell_type": "code",
   "execution_count": 62,
   "id": "6b555ab2",
   "metadata": {},
   "outputs": [
    {
     "name": "stderr",
     "output_type": "stream",
     "text": [
      "[nltk_data] Downloading package punkt to\n",
      "[nltk_data]     /Users/vannesasalazar/nltk_data...\n",
      "[nltk_data]   Package punkt is already up-to-date!\n"
     ]
    }
   ],
   "source": [
    "import string\n",
    "from nltk.tokenize import word_tokenize\n",
    "nltk.download('punkt')\n",
    "from collections import Counter\n",
    "import pandas as pd\n",
    "import emoji\n",
    "import regex as re\n",
    "\n"
   ]
  },
  {
   "cell_type": "code",
   "execution_count": 27,
   "id": "923b5a86",
   "metadata": {},
   "outputs": [],
   "source": [
    "twitter_folder = \"/Users/vannesasalazar/Desktop/ADS 509/M1 Results/twitter/\"\n",
    "lyrics_folder = \"/Users/vannesasalazar/Desktop/ADS 509/M1 Results/lyrics/\" \n",
    "\n",
    "cher_lyrics = \"cher\"\n",
    "robyn_lyrics = \"robyn\"\n"
   ]
  },
  {
   "cell_type": "code",
   "execution_count": 28,
   "id": "06522af9",
   "metadata": {},
   "outputs": [],
   "source": [
    "def descriptive_stats(tokens, num_tokens=5, verbose=True):\n",
    "    \"\"\"\n",
    "    Given a list of tokens, print number of tokens, number of unique tokens, \n",
    "    number of characters, lexical diversity (https://en.wikipedia.org/wiki/Lexical_diversity), \n",
    "    and num_tokens most common tokens. Return a list with the number of tokens, number\n",
    "    of unique tokens, lexical diversity, number of characters, and num_tokens most common tokens.\n",
    "    \"\"\"\n",
    "    \n",
    "    # Calculate the # of tokens\n",
    "    num_tokens_total = len(tokens)\n",
    "    \n",
    "    # Calculate the # of unique tokens\n",
    "    num_unique_tokens = len(set(tokens))\n",
    "    \n",
    "    # Calculate the total # of characters in all tokens\n",
    "    num_characters = sum(len(token) for token in tokens)\n",
    "    \n",
    "    # Calculate lexical diversity\n",
    "    if num_tokens_total > 0:\n",
    "        lexical_diversity = num_unique_tokens / num_tokens_total\n",
    "    else:\n",
    "        lexical_diversity = 0.0\n",
    "    \n",
    "    # Count token frequencies\n",
    "    token_counts = Counter(tokens)\n",
    "    \n",
    "    # Get the top num_tokens most common tokens\n",
    "    top_tokens = token_counts.most_common(num_tokens)\n",
    "    \n",
    "    if verbose:\n",
    "        print(f\"There are {num_tokens_total} tokens in the data.\")\n",
    "        print(f\"There are {num_unique_tokens} unique tokens in the data.\")\n",
    "        print(f\"There are {num_characters} characters in the data.\")\n",
    "        print(f\"The lexical diversity is {lexical_diversity:.3f} in the data.\")\n",
    "        print(\"Top {} most common tokens:\".format(num_tokens))\n",
    "        for token, count in top_tokens:\n",
    "            print(f\"{token}: {count}\")\n",
    "   \n",
    "    return [num_tokens_total, num_unique_tokens, lexical_diversity, num_characters, top_tokens]\n"
   ]
  },
  {
   "cell_type": "code",
   "execution_count": 29,
   "id": "59dcf058",
   "metadata": {},
   "outputs": [
    {
     "name": "stdout",
     "output_type": "stream",
     "text": [
      "There are 13 tokens in the data.\n",
      "There are 9 unique tokens in the data.\n",
      "There are 55 characters in the data.\n",
      "The lexical diversity is 0.692 in the data.\n",
      "Top 5 most common tokens:\n",
      "text: 3\n",
      "here: 2\n",
      "example: 2\n",
      "is: 1\n",
      "some: 1\n"
     ]
    }
   ],
   "source": [
    "text = \"\"\"here is some example text with other example text here in this text\"\"\".split()\n",
    "assert(descriptive_stats(text, verbose=True)[0] == 13)\n",
    "assert(descriptive_stats(text, verbose=False)[1] == 9)\n",
    "assert(abs(descriptive_stats(text, verbose=False)[2] - 0.69) < 0.02)\n",
    "assert(descriptive_stats(text, verbose=False)[3] == 55)\n"
   ]
  },
  {
   "cell_type": "markdown",
   "id": "d2e7e1a2",
   "metadata": {},
   "source": [
    "Q: Why is it beneficial to use assertion statements in your code? \n",
    "\n",
    "A: Assertions are beneficial because they serve as a validation of the code itself. The assert keyword allows for us to test the condition and if it is not true the program raises an error. Like I mentioned before it helps as a form of validation ensuring the code functions as it should. By including the assert keyword we are determining if the remainder of our code will work and if not we can take the steps to correct, prior to establishing more code. "
   ]
  },
  {
   "cell_type": "markdown",
   "id": "9d3bf93e",
   "metadata": {},
   "source": [
    "## Data Input\n",
    "\n",
    "Now read in each of the corpora. For the lyrics data, it may be convenient to store the entire contents of the file to make it easier to inspect the titles individually, as you'll do in the last part of the assignment. In the solution, I stored the lyrics data in a dictionary with two dimensions of keys: artist and song. The value was the file contents. A data frame would work equally well. \n",
    "\n",
    "For the Twitter data, we only need the description field for this assignment. Feel free all the descriptions read it into a data structure. In the solution, I stored the descriptions as a dictionary of lists, with the key being the artist. \n",
    "\n",
    "\n"
   ]
  },
  {
   "cell_type": "code",
   "execution_count": 30,
   "id": "46a0c183",
   "metadata": {
    "scrolled": true
   },
   "outputs": [
    {
     "data": {
      "text/html": [
       "<div>\n",
       "<style scoped>\n",
       "    .dataframe tbody tr th:only-of-type {\n",
       "        vertical-align: middle;\n",
       "    }\n",
       "\n",
       "    .dataframe tbody tr th {\n",
       "        vertical-align: top;\n",
       "    }\n",
       "\n",
       "    .dataframe thead th {\n",
       "        text-align: right;\n",
       "    }\n",
       "</style>\n",
       "<table border=\"1\" class=\"dataframe\">\n",
       "  <thead>\n",
       "    <tr style=\"text-align: right;\">\n",
       "      <th></th>\n",
       "      <th>screen_name</th>\n",
       "      <th>name</th>\n",
       "      <th>id</th>\n",
       "      <th>location</th>\n",
       "      <th>followers_count</th>\n",
       "      <th>friends_count</th>\n",
       "      <th>description</th>\n",
       "    </tr>\n",
       "  </thead>\n",
       "  <tbody>\n",
       "    <tr>\n",
       "      <th>0</th>\n",
       "      <td>screen_name</td>\n",
       "      <td>name</td>\n",
       "      <td>id</td>\n",
       "      <td>location</td>\n",
       "      <td>followers_count</td>\n",
       "      <td>friends_count</td>\n",
       "      <td>description</td>\n",
       "    </tr>\n",
       "    <tr>\n",
       "      <th>1</th>\n",
       "      <td>AngelxoArts</td>\n",
       "      <td>Angelxo</td>\n",
       "      <td>1424055675030806529</td>\n",
       "      <td>Zacatlan, Puebla, Mexico</td>\n",
       "      <td>29</td>\n",
       "      <td>535</td>\n",
       "      <td>\"I love chill\" •Facebook / Instagram / SoundCl...</td>\n",
       "    </tr>\n",
       "    <tr>\n",
       "      <th>2</th>\n",
       "      <td>songsfornikola</td>\n",
       "      <td>johnny</td>\n",
       "      <td>1502717352575651840</td>\n",
       "      <td></td>\n",
       "      <td>6</td>\n",
       "      <td>318</td>\n",
       "      <td>books, movies, music, nature &amp; TV shows. OG Sw...</td>\n",
       "    </tr>\n",
       "    <tr>\n",
       "      <th>3</th>\n",
       "      <td>thibaud_lola</td>\n",
       "      <td>Thibaud Lola</td>\n",
       "      <td>1502407708246478852</td>\n",
       "      <td></td>\n",
       "      <td>3</td>\n",
       "      <td>69</td>\n",
       "      <td>(Am)auteur en herbe 🌱 - juriste en paille 🤡 - ...</td>\n",
       "    </tr>\n",
       "    <tr>\n",
       "      <th>4</th>\n",
       "      <td>KyleSew2112</td>\n",
       "      <td>Kyle S 🌹🇬🇧🇺🇦</td>\n",
       "      <td>3423966821</td>\n",
       "      <td>South East London</td>\n",
       "      <td>1258</td>\n",
       "      <td>3444</td>\n",
       "      <td>This Twitter profile is full of sarcasm and ra...</td>\n",
       "    </tr>\n",
       "  </tbody>\n",
       "</table>\n",
       "</div>"
      ],
      "text/plain": [
       "      screen_name          name                   id  \\\n",
       "0     screen_name          name                   id   \n",
       "1     AngelxoArts       Angelxo  1424055675030806529   \n",
       "2  songsfornikola        johnny  1502717352575651840   \n",
       "3    thibaud_lola  Thibaud Lola  1502407708246478852   \n",
       "4     KyleSew2112  Kyle S 🌹🇬🇧🇺🇦           3423966821   \n",
       "\n",
       "                   location  followers_count  friends_count  \\\n",
       "0                  location  followers_count  friends_count   \n",
       "1  Zacatlan, Puebla, Mexico               29            535   \n",
       "2                                          6            318   \n",
       "3                                          3             69   \n",
       "4         South East London             1258           3444   \n",
       "\n",
       "                                         description  \n",
       "0                                        description  \n",
       "1  \"I love chill\" •Facebook / Instagram / SoundCl...  \n",
       "2  books, movies, music, nature & TV shows. OG Sw...  \n",
       "3  (Am)auteur en herbe 🌱 - juriste en paille 🤡 - ...  \n",
       "4  This Twitter profile is full of sarcasm and ra...  "
      ]
     },
     "execution_count": 30,
     "metadata": {},
     "output_type": "execute_result"
    }
   ],
   "source": [
    "file_path = \"/Users/vannesasalazar/Desktop/ADS 509/M1 Results/twitter/robynkonichiwa_followers_data.txt\"\n",
    "\n",
    "#create empty lists pertaining to what columns should be included.\n",
    "screen_name = []\n",
    "name = []\n",
    "id = []\n",
    "location = []\n",
    "followers_count = []\n",
    "friends_count = []\n",
    "description = []\n",
    "\n",
    "# Read in file line by line\n",
    "with open(file_path, \"r\", encoding=\"utf-8\") as file:\n",
    "    for line in file:\n",
    "        parts = line.strip().split(\"\\t\")\n",
    "        if len(parts) == 7:\n",
    "            screen_name.append(parts[0])\n",
    "            name.append(parts[1])\n",
    "            id.append(parts[2])\n",
    "            location.append(parts[3])\n",
    "            followers_count.append(parts[4])\n",
    "            friends_count.append(parts[5])\n",
    "            description.append(parts[6])\n",
    "\n",
    "# Create a DataFrame from the lists created from the txt file.\n",
    "df = pd.DataFrame({\n",
    "    \"screen_name\": screen_name,\n",
    "    \"name\": name,\n",
    "    \"id\": id,\n",
    "    \"location\": location,\n",
    "    \"followers_count\": followers_count,\n",
    "    \"friends_count\": friends_count,\n",
    "    \"description\": description\n",
    "})\n",
    "\n",
    "# Display DF to make sure the information was input correctly. \n",
    "df.head()"
   ]
  },
  {
   "cell_type": "code",
   "execution_count": 31,
   "id": "3a4c6a0a",
   "metadata": {},
   "outputs": [
    {
     "data": {
      "text/html": [
       "<div>\n",
       "<style scoped>\n",
       "    .dataframe tbody tr th:only-of-type {\n",
       "        vertical-align: middle;\n",
       "    }\n",
       "\n",
       "    .dataframe tbody tr th {\n",
       "        vertical-align: top;\n",
       "    }\n",
       "\n",
       "    .dataframe thead th {\n",
       "        text-align: right;\n",
       "    }\n",
       "</style>\n",
       "<table border=\"1\" class=\"dataframe\">\n",
       "  <thead>\n",
       "    <tr style=\"text-align: right;\">\n",
       "      <th></th>\n",
       "      <th>screen_name</th>\n",
       "      <th>name</th>\n",
       "      <th>id</th>\n",
       "      <th>location</th>\n",
       "      <th>followers_count</th>\n",
       "      <th>friends_count</th>\n",
       "      <th>description</th>\n",
       "    </tr>\n",
       "  </thead>\n",
       "  <tbody>\n",
       "    <tr>\n",
       "      <th>0</th>\n",
       "      <td>AngelxoArts</td>\n",
       "      <td>Angelxo</td>\n",
       "      <td>1424055675030806529</td>\n",
       "      <td>Zacatlan, Puebla, Mexico</td>\n",
       "      <td>29</td>\n",
       "      <td>535</td>\n",
       "      <td>\"I love chill\" •Facebook / Instagram / SoundCl...</td>\n",
       "    </tr>\n",
       "    <tr>\n",
       "      <th>1</th>\n",
       "      <td>songsfornikola</td>\n",
       "      <td>johnny</td>\n",
       "      <td>1502717352575651840</td>\n",
       "      <td></td>\n",
       "      <td>6</td>\n",
       "      <td>318</td>\n",
       "      <td>books, movies, music, nature &amp; TV shows. OG Sw...</td>\n",
       "    </tr>\n",
       "    <tr>\n",
       "      <th>2</th>\n",
       "      <td>thibaud_lola</td>\n",
       "      <td>Thibaud Lola</td>\n",
       "      <td>1502407708246478852</td>\n",
       "      <td></td>\n",
       "      <td>3</td>\n",
       "      <td>69</td>\n",
       "      <td>(Am)auteur en herbe 🌱 - juriste en paille 🤡 - ...</td>\n",
       "    </tr>\n",
       "    <tr>\n",
       "      <th>3</th>\n",
       "      <td>KyleSew2112</td>\n",
       "      <td>Kyle S 🌹🇬🇧🇺🇦</td>\n",
       "      <td>3423966821</td>\n",
       "      <td>South East London</td>\n",
       "      <td>1258</td>\n",
       "      <td>3444</td>\n",
       "      <td>This Twitter profile is full of sarcasm and ra...</td>\n",
       "    </tr>\n",
       "    <tr>\n",
       "      <th>4</th>\n",
       "      <td>MusiFlo</td>\n",
       "      <td>MusiFlo</td>\n",
       "      <td>3324069364</td>\n",
       "      <td>Canada</td>\n",
       "      <td>470</td>\n",
       "      <td>1706</td>\n",
       "      <td>Flora Youssef - Blogger &amp; Founder Posting revi...</td>\n",
       "    </tr>\n",
       "  </tbody>\n",
       "</table>\n",
       "</div>"
      ],
      "text/plain": [
       "      screen_name          name                   id  \\\n",
       "0     AngelxoArts       Angelxo  1424055675030806529   \n",
       "1  songsfornikola        johnny  1502717352575651840   \n",
       "2    thibaud_lola  Thibaud Lola  1502407708246478852   \n",
       "3     KyleSew2112  Kyle S 🌹🇬🇧🇺🇦           3423966821   \n",
       "4         MusiFlo       MusiFlo           3324069364   \n",
       "\n",
       "                   location followers_count friends_count  \\\n",
       "0  Zacatlan, Puebla, Mexico              29           535   \n",
       "1                                         6           318   \n",
       "2                                         3            69   \n",
       "3         South East London            1258          3444   \n",
       "4                    Canada             470          1706   \n",
       "\n",
       "                                         description  \n",
       "0  \"I love chill\" •Facebook / Instagram / SoundCl...  \n",
       "1  books, movies, music, nature & TV shows. OG Sw...  \n",
       "2  (Am)auteur en herbe 🌱 - juriste en paille 🤡 - ...  \n",
       "3  This Twitter profile is full of sarcasm and ra...  \n",
       "4  Flora Youssef - Blogger & Founder Posting revi...  "
      ]
     },
     "execution_count": 31,
     "metadata": {},
     "output_type": "execute_result"
    }
   ],
   "source": [
    "# Remove the first row, as it is a duplicate of the column names. \n",
    "df = df.iloc[1:]\n",
    "\n",
    "# Reset index after removing the row.\n",
    "df.reset_index(drop=True, inplace=True)\n",
    "\n",
    "df.head()\n",
    "\n"
   ]
  },
  {
   "cell_type": "code",
   "execution_count": 32,
   "id": "43673f9c",
   "metadata": {},
   "outputs": [
    {
     "name": "stdout",
     "output_type": "stream",
     "text": [
      "                                              description artist\n",
      "0       \"I love chill\" •Facebook / Instagram / SoundCl...  Robyn\n",
      "1       books, movies, music, nature & TV shows. OG Sw...  Robyn\n",
      "2       (Am)auteur en herbe 🌱 - juriste en paille 🤡 - ...  Robyn\n",
      "3       This Twitter profile is full of sarcasm and ra...  Robyn\n",
      "4       Flora Youssef - Blogger & Founder Posting revi...  Robyn\n",
      "...                                                   ...    ...\n",
      "190028  singer of songs, type 1 diabetic, tired $jakel...  Robyn\n",
      "190029  Dadx2/ Con-Arch/ Photographer/ DK #stemgrønnes...  Robyn\n",
      "190030         A year to change a life is still a year ✨😌  Robyn\n",
      "190031  Head of Consumer - Mango. Made in Melbourne. R...  Robyn\n",
      "190032  Stand for what is right, even if you stand alone.  Robyn\n",
      "\n",
      "[190033 rows x 2 columns]\n"
     ]
    }
   ],
   "source": [
    "# remove unnecessary columns.\n",
    "column_to_keep = \"description\" \n",
    "df = df[[column_to_keep]]\n",
    "\n",
    "# Create a new column for the artist, add to all instances\n",
    "df[\"artist\"] = \"Robyn\"\n",
    "\n",
    "# Reset the index again\n",
    "df.reset_index(drop=True, inplace=True)\n",
    "\n",
    "print(df)"
   ]
  },
  {
   "cell_type": "code",
   "execution_count": 33,
   "id": "ccd35e8b",
   "metadata": {},
   "outputs": [
    {
     "data": {
      "text/html": [
       "<div>\n",
       "<style scoped>\n",
       "    .dataframe tbody tr th:only-of-type {\n",
       "        vertical-align: middle;\n",
       "    }\n",
       "\n",
       "    .dataframe tbody tr th {\n",
       "        vertical-align: top;\n",
       "    }\n",
       "\n",
       "    .dataframe thead th {\n",
       "        text-align: right;\n",
       "    }\n",
       "</style>\n",
       "<table border=\"1\" class=\"dataframe\">\n",
       "  <thead>\n",
       "    <tr style=\"text-align: right;\">\n",
       "      <th></th>\n",
       "      <th>screen_name</th>\n",
       "      <th>name</th>\n",
       "      <th>id</th>\n",
       "      <th>location</th>\n",
       "      <th>followers_count</th>\n",
       "      <th>friends_count</th>\n",
       "      <th>description</th>\n",
       "    </tr>\n",
       "  </thead>\n",
       "  <tbody>\n",
       "    <tr>\n",
       "      <th>0</th>\n",
       "      <td>screen_name</td>\n",
       "      <td>name</td>\n",
       "      <td>id</td>\n",
       "      <td>location</td>\n",
       "      <td>followers_count</td>\n",
       "      <td>friends_count</td>\n",
       "      <td>description</td>\n",
       "    </tr>\n",
       "    <tr>\n",
       "      <th>1</th>\n",
       "      <td>horrormomy</td>\n",
       "      <td>Jeny</td>\n",
       "      <td>742153090850164742</td>\n",
       "      <td>Earth</td>\n",
       "      <td>81</td>\n",
       "      <td>514</td>\n",
       "      <td>𝙿𝚛𝚘𝚞𝚍 𝚜𝚞𝚙𝚙𝚘𝚛𝚝𝚎𝚛 𝚘𝚏 𝚖𝚎𝚜𝚜𝚢 𝚋𝚞𝚗𝚜 &amp; 𝚕𝚎𝚐𝚐𝚒𝚗𝚐𝚜</td>\n",
       "    </tr>\n",
       "    <tr>\n",
       "      <th>2</th>\n",
       "      <td>anju79990584</td>\n",
       "      <td>anju</td>\n",
       "      <td>1496463006451974150</td>\n",
       "      <td></td>\n",
       "      <td>13</td>\n",
       "      <td>140</td>\n",
       "      <td>163㎝／愛かっぷ💜26歳🍒 工〇好きな女の子💓 フォローしてくれたらDMします🧡</td>\n",
       "    </tr>\n",
       "    <tr>\n",
       "      <th>3</th>\n",
       "      <td>gallionjenna</td>\n",
       "      <td>J</td>\n",
       "      <td>3366479914</td>\n",
       "      <td></td>\n",
       "      <td>752</td>\n",
       "      <td>556</td>\n",
       "      <td>csu</td>\n",
       "    </tr>\n",
       "    <tr>\n",
       "      <th>4</th>\n",
       "      <td>bcscomm</td>\n",
       "      <td>bcscomm</td>\n",
       "      <td>83915043</td>\n",
       "      <td>Washington, DC</td>\n",
       "      <td>888</td>\n",
       "      <td>2891</td>\n",
       "      <td>Writer @Washinformer @SpelmanCollege alumna #D...</td>\n",
       "    </tr>\n",
       "  </tbody>\n",
       "</table>\n",
       "</div>"
      ],
      "text/plain": [
       "    screen_name     name                   id        location  \\\n",
       "0   screen_name     name                   id        location   \n",
       "1    horrormomy     Jeny   742153090850164742           Earth   \n",
       "2  anju79990584     anju  1496463006451974150                   \n",
       "3  gallionjenna        J           3366479914                   \n",
       "4       bcscomm  bcscomm             83915043  Washington, DC   \n",
       "\n",
       "   followers_count  friends_count  \\\n",
       "0  followers_count  friends_count   \n",
       "1               81            514   \n",
       "2               13            140   \n",
       "3              752            556   \n",
       "4              888           2891   \n",
       "\n",
       "                                         description  \n",
       "0                                        description  \n",
       "1           𝙿𝚛𝚘𝚞𝚍 𝚜𝚞𝚙𝚙𝚘𝚛𝚝𝚎𝚛 𝚘𝚏 𝚖𝚎𝚜𝚜𝚢 𝚋𝚞𝚗𝚜 & 𝚕𝚎𝚐𝚐𝚒𝚗𝚐𝚜  \n",
       "2          163㎝／愛かっぷ💜26歳🍒 工〇好きな女の子💓 フォローしてくれたらDMします🧡  \n",
       "3                                                csu  \n",
       "4  Writer @Washinformer @SpelmanCollege alumna #D...  "
      ]
     },
     "execution_count": 33,
     "metadata": {},
     "output_type": "execute_result"
    }
   ],
   "source": [
    "# same process with other artists #cher\n",
    "file_path_1 = \"/Users/vannesasalazar/Desktop/ADS 509/M1 Results/twitter/cher_followers_data.txt\"\n",
    "\n",
    "screen_name = []\n",
    "name = []\n",
    "id = []\n",
    "location = []\n",
    "followers_count = []\n",
    "friends_count = []\n",
    "description = []\n",
    "\n",
    "\n",
    "with open(file_path_1, \"r\", encoding=\"utf-8\") as file:\n",
    "    for line in file:\n",
    "        parts = line.strip().split(\"\\t\")\n",
    "        if len(parts) == 7:\n",
    "            screen_name.append(parts[0])\n",
    "            name.append(parts[1])\n",
    "            id.append(parts[2])\n",
    "            location.append(parts[3])\n",
    "            followers_count.append(parts[4])\n",
    "            friends_count.append(parts[5])\n",
    "            description.append(parts[6])\n",
    "\n",
    "df_cher = pd.DataFrame({\n",
    "    \"screen_name\": screen_name,\n",
    "    \"name\": name,\n",
    "    \"id\": id,\n",
    "    \"location\": location,\n",
    "    \"followers_count\": followers_count,\n",
    "    \"friends_count\": friends_count,\n",
    "    \"description\": description\n",
    "})\n",
    "\n",
    "df_cher.head()"
   ]
  },
  {
   "cell_type": "code",
   "execution_count": 34,
   "id": "77a05592",
   "metadata": {},
   "outputs": [
    {
     "data": {
      "text/html": [
       "<div>\n",
       "<style scoped>\n",
       "    .dataframe tbody tr th:only-of-type {\n",
       "        vertical-align: middle;\n",
       "    }\n",
       "\n",
       "    .dataframe tbody tr th {\n",
       "        vertical-align: top;\n",
       "    }\n",
       "\n",
       "    .dataframe thead th {\n",
       "        text-align: right;\n",
       "    }\n",
       "</style>\n",
       "<table border=\"1\" class=\"dataframe\">\n",
       "  <thead>\n",
       "    <tr style=\"text-align: right;\">\n",
       "      <th></th>\n",
       "      <th>screen_name</th>\n",
       "      <th>name</th>\n",
       "      <th>id</th>\n",
       "      <th>location</th>\n",
       "      <th>followers_count</th>\n",
       "      <th>friends_count</th>\n",
       "      <th>description</th>\n",
       "    </tr>\n",
       "  </thead>\n",
       "  <tbody>\n",
       "    <tr>\n",
       "      <th>0</th>\n",
       "      <td>horrormomy</td>\n",
       "      <td>Jeny</td>\n",
       "      <td>742153090850164742</td>\n",
       "      <td>Earth</td>\n",
       "      <td>81</td>\n",
       "      <td>514</td>\n",
       "      <td>𝙿𝚛𝚘𝚞𝚍 𝚜𝚞𝚙𝚙𝚘𝚛𝚝𝚎𝚛 𝚘𝚏 𝚖𝚎𝚜𝚜𝚢 𝚋𝚞𝚗𝚜 &amp; 𝚕𝚎𝚐𝚐𝚒𝚗𝚐𝚜</td>\n",
       "    </tr>\n",
       "    <tr>\n",
       "      <th>1</th>\n",
       "      <td>anju79990584</td>\n",
       "      <td>anju</td>\n",
       "      <td>1496463006451974150</td>\n",
       "      <td></td>\n",
       "      <td>13</td>\n",
       "      <td>140</td>\n",
       "      <td>163㎝／愛かっぷ💜26歳🍒 工〇好きな女の子💓 フォローしてくれたらDMします🧡</td>\n",
       "    </tr>\n",
       "    <tr>\n",
       "      <th>2</th>\n",
       "      <td>gallionjenna</td>\n",
       "      <td>J</td>\n",
       "      <td>3366479914</td>\n",
       "      <td></td>\n",
       "      <td>752</td>\n",
       "      <td>556</td>\n",
       "      <td>csu</td>\n",
       "    </tr>\n",
       "    <tr>\n",
       "      <th>3</th>\n",
       "      <td>bcscomm</td>\n",
       "      <td>bcscomm</td>\n",
       "      <td>83915043</td>\n",
       "      <td>Washington, DC</td>\n",
       "      <td>888</td>\n",
       "      <td>2891</td>\n",
       "      <td>Writer @Washinformer @SpelmanCollege alumna #D...</td>\n",
       "    </tr>\n",
       "    <tr>\n",
       "      <th>4</th>\n",
       "      <td>Rodhandyjj</td>\n",
       "      <td>Art Vandalay 🇺🇦🇺🇦🇺🇦</td>\n",
       "      <td>1386454132022824962</td>\n",
       "      <td>Maine, USA</td>\n",
       "      <td>104</td>\n",
       "      <td>159</td>\n",
       "      <td>I’m unemployed and live with my parents. MOOPS!</td>\n",
       "    </tr>\n",
       "  </tbody>\n",
       "</table>\n",
       "</div>"
      ],
      "text/plain": [
       "    screen_name                 name                   id        location  \\\n",
       "0    horrormomy                 Jeny   742153090850164742           Earth   \n",
       "1  anju79990584                 anju  1496463006451974150                   \n",
       "2  gallionjenna                    J           3366479914                   \n",
       "3       bcscomm              bcscomm             83915043  Washington, DC   \n",
       "4    Rodhandyjj  Art Vandalay 🇺🇦🇺🇦🇺🇦  1386454132022824962      Maine, USA   \n",
       "\n",
       "  followers_count friends_count  \\\n",
       "0              81           514   \n",
       "1              13           140   \n",
       "2             752           556   \n",
       "3             888          2891   \n",
       "4             104           159   \n",
       "\n",
       "                                         description  \n",
       "0           𝙿𝚛𝚘𝚞𝚍 𝚜𝚞𝚙𝚙𝚘𝚛𝚝𝚎𝚛 𝚘𝚏 𝚖𝚎𝚜𝚜𝚢 𝚋𝚞𝚗𝚜 & 𝚕𝚎𝚐𝚐𝚒𝚗𝚐𝚜  \n",
       "1          163㎝／愛かっぷ💜26歳🍒 工〇好きな女の子💓 フォローしてくれたらDMします🧡  \n",
       "2                                                csu  \n",
       "3  Writer @Washinformer @SpelmanCollege alumna #D...  \n",
       "4    I’m unemployed and live with my parents. MOOPS!  "
      ]
     },
     "execution_count": 34,
     "metadata": {},
     "output_type": "execute_result"
    }
   ],
   "source": [
    "# remove duplicate row.\n",
    "df_cher = df_cher.iloc[1:]\n",
    "\n",
    "# Reset the index\n",
    "df_cher.reset_index(drop=True, inplace=True)\n",
    "\n",
    "df_cher.head()"
   ]
  },
  {
   "cell_type": "code",
   "execution_count": 35,
   "id": "9a695233",
   "metadata": {},
   "outputs": [
    {
     "name": "stdout",
     "output_type": "stream",
     "text": [
      "                                               description artist\n",
      "0                 𝙿𝚛𝚘𝚞𝚍 𝚜𝚞𝚙𝚙𝚘𝚛𝚝𝚎𝚛 𝚘𝚏 𝚖𝚎𝚜𝚜𝚢 𝚋𝚞𝚗𝚜 & 𝚕𝚎𝚐𝚐𝚒𝚗𝚐𝚜   Cher\n",
      "1                163㎝／愛かっぷ💜26歳🍒 工〇好きな女の子💓 フォローしてくれたらDMします🧡   Cher\n",
      "2                                                      csu   Cher\n",
      "3        Writer @Washinformer @SpelmanCollege alumna #D...   Cher\n",
      "4          I’m unemployed and live with my parents. MOOPS!   Cher\n",
      "...                                                    ...    ...\n",
      "2001085                    Social Media isn’t real life 🤟🏻   Cher\n",
      "2001086  Marketing Manager by day, Photographer by nigh...   Cher\n",
      "2001087  I am a housewife and I'am turning 45 in Septem...   Cher\n",
      "2001088                  En IQ befriad brud från Strängnäs   Cher\n",
      "2001089                      Un ente más en esta sociedad!   Cher\n",
      "\n",
      "[2001090 rows x 2 columns]\n"
     ]
    }
   ],
   "source": [
    "# remove all unnecessary columns\n",
    "column_to_keep = \"description\"  \n",
    "df_cher = df_cher[[column_to_keep]]\n",
    "\n",
    "# Add artist column with Cher. \n",
    "df_cher[\"artist\"] = \"Cher\"\n",
    "\n",
    "# Reset the index\n",
    "df_cher.reset_index(drop=True, inplace=True)\n",
    "\n",
    "print(df_cher)"
   ]
  },
  {
   "cell_type": "markdown",
   "id": "e6598fb1",
   "metadata": {},
   "source": [
    "# Read in the lyric data"
   ]
  },
  {
   "cell_type": "code",
   "execution_count": 37,
   "id": "1b70bbf3",
   "metadata": {
    "scrolled": true
   },
   "outputs": [
    {
     "name": "stdout",
     "output_type": "stream",
     "text": [
      "                                          File_Content\n",
      "0    \"Include Me Out\"\\n\\n\\n\\nIt is really very simp...\n",
      "1    \"Electric\"\\n\\n\\n\\nElectric...\\n\\nIt's electric...\n",
      "2    \"Beach 2K20\"\\n\\n\\n\\n(So you wanna go out?\\nHow...\n",
      "3    \"Love Kills\"\\n\\n\\n\\nIf you're looking for love...\n",
      "4    \"Time Machine\"\\n\\n\\n\\nHey, what did I do?\\nCan...\n",
      "..                                                 ...\n",
      "99   \"Do You Really Want Me (Show Respect)\"\\n\\n\\n\\n...\n",
      "100  \"The Last Time\"\\n\\n\\n\\nEver since I was a litt...\n",
      "101  \"Missing U\"\\n\\n\\n\\nBaby, it's so weird to me n...\n",
      "102  \"Breakdown Intermission\"\\n\\n\\n\\nHey my friend ...\n",
      "103  \"Play\"\\n\\n\\n\\nUm'Um'\\nSome people live their l...\n",
      "\n",
      "[104 rows x 1 columns]\n"
     ]
    }
   ],
   "source": [
    "# Lyrics from robyn\n",
    "directory_path = '/Users/vannesasalazar/Desktop/ADS 509/M1 Results/lyrics/robyn'\n",
    "\n",
    "text_file_contents = []\n",
    "\n",
    "file_list = os.listdir(directory_path)\n",
    "\n",
    "for file_name in file_list:\n",
    "    if file_name.endswith('.txt'):\n",
    "        file_path = os.path.join(directory_path, file_name)\n",
    "        \n",
    "        with open(file_path, 'r', encoding='utf-8') as file:\n",
    "            file_content = file.read()\n",
    "            text_file_contents.append(file_content)\n",
    "\n",
    "df_lyrics_robyn = pd.DataFrame({'File_Content': text_file_contents})\n",
    "\n",
    "print(df_lyrics_robyn)"
   ]
  },
  {
   "cell_type": "code",
   "execution_count": 38,
   "id": "86568c50",
   "metadata": {},
   "outputs": [
    {
     "name": "stdout",
     "output_type": "stream",
     "text": [
      "                                    Title  \\\n",
      "0                          Include Me Out   \n",
      "1                                Electric   \n",
      "2                              Beach 2K20   \n",
      "3                              Love Kills   \n",
      "4                            Time Machine   \n",
      "..                                    ...   \n",
      "99   Do You Really Want Me (Show Respect)   \n",
      "100                         The Last Time   \n",
      "101                             Missing U   \n",
      "102                Breakdown Intermission   \n",
      "103                                  Play   \n",
      "\n",
      "                                                  Text artist  \n",
      "0    \\n\\nIt is really very simple\\nJust a single pu...  Robyn  \n",
      "1    \\n\\nElectric...\\n\\nIt's electric\\nIt's a natur...  Robyn  \n",
      "2    \\n\\n(So you wanna go out?\\nHow you gonna get t...  Robyn  \n",
      "3    \\n\\nIf you're looking for love\\nGet a heart ma...  Robyn  \n",
      "4    \\n\\nHey, what did I do?\\nCan't believe the fit...  Robyn  \n",
      "..                                                 ...    ...  \n",
      "99   \\n\\nBoy listen to me careful now\\nCause this i...  Robyn  \n",
      "100  \\n\\nEver since I was a little girl even younge...  Robyn  \n",
      "101  \\n\\nBaby, it's so weird to me now that it's ov...  Robyn  \n",
      "102  \\n\\nHey my friend I thought you knew it's all ...  Robyn  \n",
      "103  \\n\\nUm'Um'\\nSome people live their lives by th...  Robyn  \n",
      "\n",
      "[104 rows x 3 columns]\n"
     ]
    }
   ],
   "source": [
    "df_lyrics_robyn = pd.DataFrame(df_lyrics_robyn)\n",
    "\n",
    "df_lyrics_robyn[['Title', 'Text']] = df_lyrics_robyn['File_Content'].str.split('\\n\\n', 1, expand=True)\n",
    "\n",
    "df_lyrics_robyn['Title'] = df_lyrics_robyn['Title'].str.strip('\"')\n",
    "\n",
    "df_lyrics_robyn = df_lyrics_robyn.drop(df_lyrics_robyn.columns[0], axis=1)\n",
    "\n",
    "\n",
    "df_lyrics_robyn[\"artist\"] = \"Robyn\"\n",
    "\n",
    "print(df_lyrics_robyn)"
   ]
  },
  {
   "cell_type": "code",
   "execution_count": 39,
   "id": "acdc7d26",
   "metadata": {
    "scrolled": true
   },
   "outputs": [
    {
     "name": "stdout",
     "output_type": "stream",
     "text": [
      "                                          File_Content\n",
      "0    \"Come And Stay With Me\"\\n\\n\\n\\nI'll send away ...\n",
      "1    \"Pirate\"\\n\\n\\n\\nHe'll sail on with the summer ...\n",
      "2    \"Stars\"\\n\\n\\n\\nI was never one for saying what...\n",
      "3    \"These Days\"\\n\\n\\n\\nWell I've been out walking...\n",
      "4    \"Love So High\"\\n\\n\\n\\nEvery morning I would wa...\n",
      "..                                                 ...\n",
      "311  \"Take It From The Boys\"\\n\\n\\n\\nSo scared I nev...\n",
      "312  \"Dream Baby\"\\n\\n\\n\\nI found the boy for me\\nHe...\n",
      "313  \"Please Don't Tell Me\"\\n\\n\\n\\nYa shook the ove...\n",
      "314  \"I Hope You Find It\"\\n\\n\\n\\nThese clouds aren'...\n",
      "315  \"Classified 1A\"\\n\\n\\n\\nI know now how much I l...\n",
      "\n",
      "[316 rows x 1 columns]\n"
     ]
    }
   ],
   "source": [
    "directory_path = '/Users/vannesasalazar/Desktop/ADS 509/M1 Results/lyrics/cher'\n",
    "\n",
    "text_file_contents = []\n",
    "\n",
    "file_list = os.listdir(directory_path)\n",
    "\n",
    "\n",
    "for file_name in file_list:\n",
    "    if file_name.endswith('.txt'):\n",
    "        file_path = os.path.join(directory_path, file_name)\n",
    "        \n",
    "        with open(file_path, 'r', encoding='utf-8') as file:\n",
    "            file_content = file.read()\n",
    "            text_file_contents.append(file_content)\n",
    "\n",
    "df_lyrics_cher = pd.DataFrame({'File_Content': text_file_contents})\n",
    "\n",
    "print(df_lyrics_cher)"
   ]
  },
  {
   "cell_type": "code",
   "execution_count": 40,
   "id": "9ec67a68",
   "metadata": {
    "scrolled": true
   },
   "outputs": [
    {
     "name": "stdout",
     "output_type": "stream",
     "text": [
      "                     Title                                               Text  \\\n",
      "0    Come And Stay With Me  \\n\\nI'll send away all my false pride\\nAnd I'l...   \n",
      "1                   Pirate  \\n\\nHe'll sail on with the summer wind\\nThat b...   \n",
      "2                    Stars  \\n\\nI was never one for saying what I really f...   \n",
      "3               These Days  \\n\\nWell I've been out walking \\nAnd I don't d...   \n",
      "4             Love So High  \\n\\nEvery morning I would wake up\\nAnd I'd tie...   \n",
      "..                     ...                                                ...   \n",
      "311  Take It From The Boys  \\n\\nSo scared I never been\\nToo hard to keep i...   \n",
      "312             Dream Baby  \\n\\nI found the boy for me\\nHe's my dream baby...   \n",
      "313   Please Don't Tell Me  \\n\\nYa shook the override \\nWhy'd I get this f...   \n",
      "314     I Hope You Find It  \\n\\nThese clouds aren't going nowhere, darling...   \n",
      "315          Classified 1A  \\n\\nI know now how much I love you\\nI knew it ...   \n",
      "\n",
      "    artist  \n",
      "0     Cher  \n",
      "1     Cher  \n",
      "2     Cher  \n",
      "3     Cher  \n",
      "4     Cher  \n",
      "..     ...  \n",
      "311   Cher  \n",
      "312   Cher  \n",
      "313   Cher  \n",
      "314   Cher  \n",
      "315   Cher  \n",
      "\n",
      "[316 rows x 3 columns]\n"
     ]
    }
   ],
   "source": [
    "df_lyrics_cher = pd.DataFrame(df_lyrics_cher)\n",
    "\n",
    "\n",
    "df_lyrics_cher[['Title', 'Text']] = df_lyrics_cher['File_Content'].str.split('\\n\\n', 1, expand=True)\n",
    "\n",
    "df_lyrics_cher['Title'] = df_lyrics_cher['Title'].str.strip('\"')\n",
    "\n",
    "df_lyrics_cher = df_lyrics_cher.drop(df_lyrics_cher.columns[0], axis=1)\n",
    "\n",
    "df_lyrics_cher[\"artist\"] = \"Cher\"\n",
    "\n",
    "print(df_lyrics_cher)"
   ]
  },
  {
   "cell_type": "markdown",
   "id": "6a5f3b12",
   "metadata": {},
   "source": [
    "## Data Cleaning\n",
    "\n",
    "Now clean and tokenize your data. Remove punctuation chacters (available in the `punctuation` object in the `string` library), split on whitespace, fold to lowercase, and remove stopwords. Store your cleaned data, which must be accessible as an interable for `descriptive_stats`, in new objects or in new columns in your data frame. \n",
    "\n"
   ]
  },
  {
   "cell_type": "code",
   "execution_count": 43,
   "id": "71c73d86",
   "metadata": {},
   "outputs": [],
   "source": [
    "punctuation = set(punctuation)"
   ]
  },
  {
   "cell_type": "code",
   "execution_count": 82,
   "id": "15d2b226",
   "metadata": {
    "scrolled": true
   },
   "outputs": [],
   "source": [
    "def preprocess_text_combined(text):\n",
    "    \n",
    "    characters_to_remove = string.punctuation + \"•øØ\"\n",
    "    \n",
    "    text = re.sub(r'\\s+', ' ', text)\n",
    "    \n",
    "    words = word_tokenize(text)\n",
    "    \n",
    "    words = [word.lower() for word in words]\n",
    "    \n",
    "    words = [''.join(filter(lambda char: char not in characters_to_remove, word)) for word in words]\n",
    "    \n",
    "    words = [word for word in words if word not in stopwords.words('english') and word.strip() != '']\n",
    "    \n",
    "    return words\n"
   ]
  },
  {
   "cell_type": "code",
   "execution_count": 83,
   "id": "f93c1df9",
   "metadata": {},
   "outputs": [],
   "source": [
    "df['preprocessed_text'] = df['description'].apply(preprocess_text_combined)"
   ]
  },
  {
   "cell_type": "code",
   "execution_count": 68,
   "id": "46c1ddb4",
   "metadata": {},
   "outputs": [],
   "source": [
    "#df_cher['preprocessed_text'] = df_cher['description'].apply(preprocess_text_combined)\n",
    "# I wanted to also conduct the process of cleaning and preparing data for analysis but their is over 2 million rows\n",
    "# I was not able to process it without taking a significant amount of time and processing power. "
   ]
  },
  {
   "cell_type": "code",
   "execution_count": 84,
   "id": "dc98a719",
   "metadata": {},
   "outputs": [],
   "source": [
    "df_lyrics_cher['preprocessed_text'] = df_lyrics_cher['Text'].apply(preprocess_text_combined)"
   ]
  },
  {
   "cell_type": "code",
   "execution_count": 85,
   "id": "e678054f",
   "metadata": {},
   "outputs": [],
   "source": [
    "df_lyrics_robyn['preprocessed_text'] = df_lyrics_robyn['Text'].apply(preprocess_text_combined)"
   ]
  },
  {
   "cell_type": "markdown",
   "id": "f2dd0179",
   "metadata": {},
   "source": [
    "## Basic Descriptive Statistics\n",
    "\n",
    "Call your `descriptive_stats` function on both your lyrics data and your twitter data and for both artists (four total calls). "
   ]
  },
  {
   "cell_type": "code",
   "execution_count": 86,
   "id": "f0bbedd9",
   "metadata": {
    "scrolled": false
   },
   "outputs": [
    {
     "name": "stdout",
     "output_type": "stream",
     "text": [
      "There are 14560 tokens in the data.\n",
      "There are 2083 unique tokens in the data.\n",
      "There are 68781 characters in the data.\n",
      "The lexical diversity is 0.143 in the data.\n",
      "Top 5 most common tokens:\n",
      "nt: 515\n",
      "know: 305\n",
      "got: 274\n",
      "love: 270\n",
      "like: 230\n"
     ]
    }
   ],
   "source": [
    "all_tokens_robyn = [token for tokens_list in df_lyrics_robyn['preprocessed_text'] for token in tokens_list]\n",
    "\n",
    "lyrics_robyn_result = descriptive_stats(all_tokens_robyn)"
   ]
  },
  {
   "cell_type": "code",
   "execution_count": 87,
   "id": "b10756af",
   "metadata": {},
   "outputs": [
    {
     "name": "stdout",
     "output_type": "stream",
     "text": [
      "There are 34122 tokens in the data.\n",
      "There are 3578 unique tokens in the data.\n",
      "There are 159898 characters in the data.\n",
      "The lexical diversity is 0.105 in the data.\n",
      "Top 5 most common tokens:\n",
      "nt: 1011\n",
      "love: 984\n",
      "know: 480\n",
      "na: 350\n",
      "got: 347\n"
     ]
    }
   ],
   "source": [
    "all_tokens_cher = [token for tokens_list in df_lyrics_cher['preprocessed_text'] for token in tokens_list]\n",
    "\n",
    "lyrics_cher_result = descriptive_stats(all_tokens_cher)\n",
    "                                      \n"
   ]
  },
  {
   "cell_type": "code",
   "execution_count": 88,
   "id": "be8aad7f",
   "metadata": {},
   "outputs": [
    {
     "name": "stdout",
     "output_type": "stream",
     "text": [
      "There are 1516374 tokens in the data.\n",
      "There are 242423 unique tokens in the data.\n",
      "There are 9052367 characters in the data.\n",
      "The lexical diversity is 0.160 in the data.\n",
      "Top 5 most common tokens:\n",
      "music: 15503\n",
      "love: 11965\n",
      "https: 7974\n",
      "och: 7929\n",
      "life: 7723\n"
     ]
    }
   ],
   "source": [
    "all_tokens = [token for tokens_list in df['preprocessed_text'] for token in tokens_list]\n",
    "\n",
    "tweet_result = descriptive_stats(all_tokens)\n"
   ]
  },
  {
   "cell_type": "markdown",
   "id": "46294409",
   "metadata": {},
   "source": [
    "Q: How do you think the \"top 5 words\" would be different if we left stopwords in the data? \n",
    "\n",
    "A: I think nt might have been not? Not is one of the stop words, so possibly would have been the most common in lyrics. I definitely think I would not have seen love, or life, or music, got, know. It probably would have been top 5 all stop words. \n",
    "\n",
    "---\n",
    "\n",
    "Q: What were your prior beliefs about the lexical diversity between the artists? Does the difference (or lack thereof) in lexical diversity between the artists conform to your prior beliefs? \n",
    "\n",
    "A: I am not suprised that the lexical diversity is low, just because songs and social media related to artists is meant to be fun and catchy. I dont think large, difficult, or not used in everyday language would make good songs, or be used on social media for the most part. \n"
   ]
  },
  {
   "cell_type": "markdown",
   "id": "4d4e1ac1",
   "metadata": {},
   "source": [
    "\n",
    "## Specialty Statistics\n",
    "\n",
    "The descriptive statistics we have calculated are quite generic. You will now calculate a handful of statistics tailored to these data.\n",
    "\n",
    "1. Ten most common emojis by artist in the twitter descriptions.\n",
    "1. Ten most common hashtags by artist in the twitter descriptions.\n",
    "1. Five most common words in song titles by artist. \n",
    "1. For each artist, a histogram of song lengths (in terms of number of tokens) \n",
    "\n",
    "We can use the `emoji` library to help us identify emojis and you have been given a function to help you.\n"
   ]
  },
  {
   "cell_type": "markdown",
   "id": "ef1abeb1",
   "metadata": {},
   "source": [
    "### Emojis 😁\n",
    "\n",
    "What are the ten most common emojis by artist in the twitter descriptions? "
   ]
  },
  {
   "cell_type": "code",
   "execution_count": 89,
   "id": "7a143ea9",
   "metadata": {},
   "outputs": [],
   "source": [
    "def extract_emojis(text):\n",
    "    emoji_list = []\n",
    "    emoji_pattern = re.compile(\"[\"\n",
    "                           u\"\\U0001F600-\\U0001F64F\"  \n",
    "                           u\"\\U0001F300-\\U0001F5FF\"  \n",
    "                           u\"\\U0001F680-\\U0001F6FF\"  \n",
    "                           u\"\\U0001F700-\\U0001F77F\"  \n",
    "                           u\"\\U0001F780-\\U0001F7FF\"  \n",
    "                           u\"\\U0001F800-\\U0001F8FF\"  \n",
    "                           u\"\\U0001F900-\\U0001F9FF\"  \n",
    "                           u\"\\U0001FA00-\\U0001FA6F\"  \n",
    "                           u\"\\U0001FA70-\\U0001FAFF\"  \n",
    "                           u\"\\U0001FB00-\\U0001FBFF\"  \n",
    "                           u\"\\U0001F004-\\U0001F0CF\"  \n",
    "                           \"]+\", flags=re.UNICODE)\n",
    "    emoji_list = emoji_pattern.findall(text)\n",
    "    return emoji_list"
   ]
  },
  {
   "cell_type": "code",
   "execution_count": 90,
   "id": "3d7259fb",
   "metadata": {},
   "outputs": [],
   "source": [
    "all_emojis = df['description'].apply(extract_emojis).explode().tolist()"
   ]
  },
  {
   "cell_type": "code",
   "execution_count": 91,
   "id": "46c5768a",
   "metadata": {},
   "outputs": [],
   "source": [
    "emoji_counts = Counter(all_emojis)"
   ]
  },
  {
   "cell_type": "code",
   "execution_count": 92,
   "id": "34d7b521",
   "metadata": {},
   "outputs": [
    {
     "name": "stdout",
     "output_type": "stream",
     "text": [
      "[(nan, 170320), ('🌈', 3643), ('🏳', 3048), ('🎶', 425), ('🏴', 359), ('💜', 355), ('💙', 330), ('💻', 329), ('🖤', 326), ('📍', 302)]\n"
     ]
    }
   ],
   "source": [
    "top_10_emojis = emoji_counts.most_common(10)\n",
    "\n",
    "print(top_10_emojis)"
   ]
  },
  {
   "cell_type": "markdown",
   "id": "bab9b770",
   "metadata": {},
   "source": [
    "### Hashtags\n",
    "\n",
    "What are the ten most common hashtags by artist in the twitter descriptions? \n"
   ]
  },
  {
   "cell_type": "code",
   "execution_count": 93,
   "id": "07c396f1",
   "metadata": {},
   "outputs": [],
   "source": [
    "def extract_hashtags(text):\n",
    "    hashtag_list = re.findall(r'#\\w+', text)\n",
    "    return hashtag_list"
   ]
  },
  {
   "cell_type": "code",
   "execution_count": 94,
   "id": "b27e34e8",
   "metadata": {},
   "outputs": [],
   "source": [
    "all_hashtags = df['description'].apply(extract_hashtags).explode().tolist()"
   ]
  },
  {
   "cell_type": "code",
   "execution_count": 95,
   "id": "d204dc80",
   "metadata": {},
   "outputs": [],
   "source": [
    "hashtag_counts = Counter(all_hashtags)"
   ]
  },
  {
   "cell_type": "code",
   "execution_count": 96,
   "id": "44140d80",
   "metadata": {},
   "outputs": [
    {
     "name": "stdout",
     "output_type": "stream",
     "text": [
      "[(nan, 176984), ('#BlackLivesMatter', 337), ('#BLM', 306), ('#blacklivesmatter', 208), ('#1', 199), ('#music', 174), ('#Music', 113), ('#EDM', 86), ('#LGBTQ', 75), ('#TeamFollowBack', 59)]\n"
     ]
    }
   ],
   "source": [
    "top_10_hashtags = hashtag_counts.most_common(10)\n",
    "print(top_10_hashtags)"
   ]
  },
  {
   "cell_type": "markdown",
   "id": "d10f21d5",
   "metadata": {},
   "source": [
    "### Song Titles\n",
    "\n",
    "What are the five most common words in song titles by artist? The song titles should be on the first line of the lyrics pages, so if you have kept the raw file contents around, you will not need to re-read the data.\n"
   ]
  },
  {
   "cell_type": "code",
   "execution_count": 97,
   "id": "bb69b36b",
   "metadata": {},
   "outputs": [],
   "source": [
    "df_lyrics_cher['preprocessed_Title'] = df_lyrics_cher['Title'].apply(preprocess_text_combined)"
   ]
  },
  {
   "cell_type": "code",
   "execution_count": 98,
   "id": "e8a5808a",
   "metadata": {},
   "outputs": [],
   "source": [
    "df_lyrics_robyn['preprocessed_Title'] = df_lyrics_robyn['Title'].apply(preprocess_text_combined)"
   ]
  },
  {
   "cell_type": "code",
   "execution_count": 99,
   "id": "73d21dc3",
   "metadata": {},
   "outputs": [
    {
     "name": "stdout",
     "output_type": "stream",
     "text": [
      "[('love', 38), ('nt', 19), ('man', 15), ('song', 11), ('come', 7)]\n"
     ]
    }
   ],
   "source": [
    "all_tokens_titles_cher = [token for sublist in df_lyrics_cher['preprocessed_Title'] for token in sublist]\n",
    "\n",
    "\n",
    "word_counts_cher = Counter(all_tokens_titles_cher)\n",
    "\n",
    "top_5_words_cher = word_counts_cher.most_common(5)\n",
    "\n",
    "print(top_5_words_cher)"
   ]
  },
  {
   "cell_type": "code",
   "execution_count": 100,
   "id": "a4b84376",
   "metadata": {},
   "outputs": [
    {
     "name": "stdout",
     "output_type": "stream",
     "text": [
      "[('love', 6), ('nt', 5), ('u', 4), ('hang', 3), ('tell', 3)]\n"
     ]
    }
   ],
   "source": [
    "all_tokens_titles_robyn = [token for sublist in df_lyrics_robyn['preprocessed_Title'] for token in sublist]\n",
    "\n",
    "\n",
    "word_counts_robyn = Counter(all_tokens_titles_robyn)\n",
    "\n",
    "top_5_words_robyn = word_counts_robyn.most_common(5)\n",
    "\n",
    "print(top_5_words_robyn)"
   ]
  },
  {
   "cell_type": "markdown",
   "id": "5dd4fd71",
   "metadata": {},
   "source": [
    "### Song Lengths\n",
    "\n",
    "For each artist, a histogram of song lengths (in terms of number of tokens). If you put the song lengths in a data frame with an artist column, matplotlib will make the plotting quite easy. An example is given to help you out. \n"
   ]
  },
  {
   "cell_type": "code",
   "execution_count": 101,
   "id": "02e7faa7",
   "metadata": {
    "scrolled": true
   },
   "outputs": [
    {
     "data": {
      "image/png": "[encoded data removed]",
      "text/plain": [
       "<Figure size 432x288 with 1 Axes>"
      ]
     },
     "metadata": {
      "needs_background": "light"
     },
     "output_type": "display_data"
    }
   ],
   "source": [
    "#CHER\n",
    "plt.hist([len(tokens_list) for tokens_list in df_lyrics_cher['preprocessed_text']], bins=30, edgecolor='k')\n",
    "plt.xlabel('Song Length (Total Tokens)')\n",
    "plt.ylabel('Frequency')\n",
    "plt.title('Histogram of Song Length (Total Tokens)')\n",
    "plt.grid(True)\n",
    "\n",
    "# Show the histogram\n",
    "plt.show()"
   ]
  },
  {
   "cell_type": "code",
   "execution_count": 102,
   "id": "140e2d31",
   "metadata": {},
   "outputs": [
    {
     "data": {
      "image/png": "[encoded data removed]",
      "text/plain": [
       "<Figure size 432x288 with 1 Axes>"
      ]
     },
     "metadata": {
      "needs_background": "light"
     },
     "output_type": "display_data"
    }
   ],
   "source": [
    "#Robyn\n",
    "plt.hist([len(tokens_list) for tokens_list in df_lyrics_robyn['preprocessed_text']], bins=30, edgecolor='k')\n",
    "plt.xlabel('Song Length (Total Tokens)')\n",
    "plt.ylabel('Frequency')\n",
    "plt.title('Histogram of Song Length (Total Tokens)')\n",
    "plt.grid(True)\n",
    "\n",
    "# Show the histogram\n",
    "plt.show()"
   ]
  },
  {
   "cell_type": "markdown",
   "id": "8fde9ebb",
   "metadata": {},
   "source": [
    "Since the lyrics may be stored with carriage returns or tabs, it may be useful to have a function that can collapse whitespace, using regular expressions, and be used for splitting. \n",
    "\n",
    "Q: What does the regular expression `'\\s+'` match on? \n",
    "\n",
    "A: It matches one or more whitespace characters in a text. The \\s is whitespace, and the + means the preceding element should occur consecutively once or more times. \n"
   ]
  },
  {
   "cell_type": "code",
   "execution_count": null,
   "id": "8ced8848",
   "metadata": {},
   "outputs": [],
   "source": []
  }
 ],
 "metadata": {
  "kernelspec": {
   "display_name": "Python 3 (ipykernel)",
   "language": "python",
   "name": "python3"
  },
  "language_info": {
   "codemirror_mode": {
    "name": "ipython",
    "version": 3
   },
   "file_extension": ".py",
   "mimetype": "text/x-python",
   "name": "python",
   "nbconvert_exporter": "python",
   "pygments_lexer": "ipython3",
   "version": "3.9.12"
  }
 },
 "nbformat": 4,
 "nbformat_minor": 5
}
